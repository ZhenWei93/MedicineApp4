{
  "cells": [
    {
      "cell_type": "markdown",
      "metadata": {
        "id": "view-in-github",
        "colab_type": "text"
      },
      "source": [
        "<a href=\"https://colab.research.google.com/github/ZhenWei93/MedicineApp4/blob/master/learn/search/multi-modal/clip-search/clip-text-image-search.ipynb\" target=\"_parent\"><img src=\"https://colab.research.google.com/assets/colab-badge.svg\" alt=\"Open In Colab\"/></a>"
      ]
    },
    {
      "cell_type": "markdown",
      "metadata": {
        "id": "A-zhKjQOF2n5"
      },
      "source": [
        "[![Open In Colab](https://colab.research.google.com/assets/colab-badge.svg)](https://colab.research.google.com/github/pinecone-io/examples/blob/master/learn/search/multi-modal/clip-search/clip-text-image-search.ipynb) [![Open nbviewer](https://raw.githubusercontent.com/pinecone-io/examples/master/assets/nbviewer-shield.svg)](https://nbviewer.org/github/pinecone-io/examples/blob/master/learn/search/multi-modal/clip-search/clip-text-image-search.ipynb)"
      ]
    },
    {
      "cell_type": "markdown",
      "metadata": {
        "id": "taXVzRZYIT25"
      },
      "source": [
        "# Text-to-Image and Image-to-image search Using CLIP"
      ]
    },
    {
      "cell_type": "markdown",
      "metadata": {
        "id": "Yl3CcNz8lGW6"
      },
      "source": [
        "@Author: Zoumana KEITA\n",
        "https://zoumanakeita.medium.com/"
      ]
    },
    {
      "cell_type": "markdown",
      "metadata": {
        "id": "7NBp3gpeTcCh"
      },
      "source": [
        "# Install libraries"
      ]
    },
    {
      "cell_type": "code",
      "execution_count": null,
      "metadata": {
        "id": "5FmFafJfTHSR",
        "outputId": "77c726b0-c933-4dbb-977f-1e94214645c1",
        "colab": {
          "base_uri": "https://localhost:8080/"
        }
      },
      "outputs": [
        {
          "output_type": "stream",
          "name": "stdout",
          "text": [
            "\u001b[2K     \u001b[90m━━━━━━━━━━━━━━━━━━━━━━━━━━━━━━━━━━━━━━━━\u001b[0m \u001b[32m44.0/44.0 kB\u001b[0m \u001b[31m1.5 MB/s\u001b[0m eta \u001b[36m0:00:00\u001b[0m\n",
            "\u001b[2K   \u001b[90m━━━━━━━━━━━━━━━━━━━━━━━━━━━━━━━━━━━━━━━━\u001b[0m \u001b[32m211.0/211.0 kB\u001b[0m \u001b[31m2.0 MB/s\u001b[0m eta \u001b[36m0:00:00\u001b[0m\n",
            "\u001b[2K   \u001b[90m━━━━━━━━━━━━━━━━━━━━━━━━━━━━━━━━━━━━━━━━\u001b[0m \u001b[32m10.0/10.0 MB\u001b[0m \u001b[31m30.3 MB/s\u001b[0m eta \u001b[36m0:00:00\u001b[0m\n",
            "\u001b[2K   \u001b[90m━━━━━━━━━━━━━━━━━━━━━━━━━━━━━━━━━━━━━━━━\u001b[0m \u001b[32m766.7/766.7 MB\u001b[0m \u001b[31m805.9 kB/s\u001b[0m eta \u001b[36m0:00:00\u001b[0m\n",
            "\u001b[2K   \u001b[90m━━━━━━━━━━━━━━━━━━━━━━━━━━━━━━━━━━━━━━━━\u001b[0m \u001b[32m363.4/363.4 MB\u001b[0m \u001b[31m2.1 MB/s\u001b[0m eta \u001b[36m0:00:00\u001b[0m\n",
            "\u001b[2K   \u001b[90m━━━━━━━━━━━━━━━━━━━━━━━━━━━━━━━━━━━━━━━━\u001b[0m \u001b[32m13.8/13.8 MB\u001b[0m \u001b[31m63.6 MB/s\u001b[0m eta \u001b[36m0:00:00\u001b[0m\n",
            "\u001b[2K   \u001b[90m━━━━━━━━━━━━━━━━━━━━━━━━━━━━━━━━━━━━━━━━\u001b[0m \u001b[32m24.6/24.6 MB\u001b[0m \u001b[31m47.9 MB/s\u001b[0m eta \u001b[36m0:00:00\u001b[0m\n",
            "\u001b[2K   \u001b[90m━━━━━━━━━━━━━━━━━━━━━━━━━━━━━━━━━━━━━━━━\u001b[0m \u001b[32m883.7/883.7 kB\u001b[0m \u001b[31m36.0 MB/s\u001b[0m eta \u001b[36m0:00:00\u001b[0m\n",
            "\u001b[2K   \u001b[90m━━━━━━━━━━━━━━━━━━━━━━━━━━━━━━━━━━━━━━━━\u001b[0m \u001b[32m664.8/664.8 MB\u001b[0m \u001b[31m1.3 MB/s\u001b[0m eta \u001b[36m0:00:00\u001b[0m\n",
            "\u001b[2K   \u001b[90m━━━━━━━━━━━━━━━━━━━━━━━━━━━━━━━━━━━━━━━━\u001b[0m \u001b[32m211.5/211.5 MB\u001b[0m \u001b[31m6.2 MB/s\u001b[0m eta \u001b[36m0:00:00\u001b[0m\n",
            "\u001b[2K   \u001b[90m━━━━━━━━━━━━━━━━━━━━━━━━━━━━━━━━━━━━━━━━\u001b[0m \u001b[32m56.3/56.3 MB\u001b[0m \u001b[31m12.6 MB/s\u001b[0m eta \u001b[36m0:00:00\u001b[0m\n",
            "\u001b[2K   \u001b[90m━━━━━━━━━━━━━━━━━━━━━━━━━━━━━━━━━━━━━━━━\u001b[0m \u001b[32m127.9/127.9 MB\u001b[0m \u001b[31m8.1 MB/s\u001b[0m eta \u001b[36m0:00:00\u001b[0m\n",
            "\u001b[2K   \u001b[90m━━━━━━━━━━━━━━━━━━━━━━━━━━━━━━━━━━━━━━━━\u001b[0m \u001b[32m207.5/207.5 MB\u001b[0m \u001b[31m6.0 MB/s\u001b[0m eta \u001b[36m0:00:00\u001b[0m\n",
            "\u001b[2K   \u001b[90m━━━━━━━━━━━━━━━━━━━━━━━━━━━━━━━━━━━━━━━━\u001b[0m \u001b[32m150.1/150.1 MB\u001b[0m \u001b[31m7.0 MB/s\u001b[0m eta \u001b[36m0:00:00\u001b[0m\n",
            "\u001b[2K   \u001b[90m━━━━━━━━━━━━━━━━━━━━━━━━━━━━━━━━━━━━━━━━\u001b[0m \u001b[32m21.1/21.1 MB\u001b[0m \u001b[31m77.5 MB/s\u001b[0m eta \u001b[36m0:00:00\u001b[0m\n",
            "\u001b[2K   \u001b[90m━━━━━━━━━━━━━━━━━━━━━━━━━━━━━━━━━━━━━━━━\u001b[0m \u001b[32m253.2/253.2 MB\u001b[0m \u001b[31m6.2 MB/s\u001b[0m eta \u001b[36m0:00:00\u001b[0m\n",
            "\u001b[2K   \u001b[90m━━━━━━━━━━━━━━━━━━━━━━━━━━━━━━━━━━━━━━━━\u001b[0m \u001b[32m485.4/485.4 kB\u001b[0m \u001b[31m31.5 MB/s\u001b[0m eta \u001b[36m0:00:00\u001b[0m\n",
            "\u001b[2K   \u001b[90m━━━━━━━━━━━━━━━━━━━━━━━━━━━━━━━━━━━━━━━━\u001b[0m \u001b[32m2.7/2.7 MB\u001b[0m \u001b[31m71.3 MB/s\u001b[0m eta \u001b[36m0:00:00\u001b[0m\n",
            "\u001b[2K   \u001b[90m━━━━━━━━━━━━━━━━━━━━━━━━━━━━━━━━━━━━━━━━\u001b[0m \u001b[32m2.4/2.4 MB\u001b[0m \u001b[31m78.4 MB/s\u001b[0m eta \u001b[36m0:00:00\u001b[0m\n",
            "\u001b[2K   \u001b[90m━━━━━━━━━━━━━━━━━━━━━━━━━━━━━━━━━━━━━━━━\u001b[0m \u001b[32m116.3/116.3 kB\u001b[0m \u001b[31m10.6 MB/s\u001b[0m eta \u001b[36m0:00:00\u001b[0m\n",
            "\u001b[2K   \u001b[90m━━━━━━━━━━━━━━━━━━━━━━━━━━━━━━━━━━━━━━━━\u001b[0m \u001b[32m143.5/143.5 kB\u001b[0m \u001b[31m12.5 MB/s\u001b[0m eta \u001b[36m0:00:00\u001b[0m\n",
            "\u001b[2K   \u001b[90m━━━━━━━━━━━━━━━━━━━━━━━━━━━━━━━━━━━━━━━━\u001b[0m \u001b[32m194.8/194.8 kB\u001b[0m \u001b[31m17.1 MB/s\u001b[0m eta \u001b[36m0:00:00\u001b[0m\n",
            "\u001b[?25h"
          ]
        }
      ],
      "source": [
        "!pip install -qU transformers torch datasets gdcm pydicom pinecone-client==3.1.0"
      ]
    },
    {
      "cell_type": "markdown",
      "metadata": {
        "id": "3VCeB4yCTe4A"
      },
      "source": [
        "# Import libraries"
      ]
    },
    {
      "cell_type": "code",
      "execution_count": null,
      "metadata": {
        "id": "fHmhupe7B9BM"
      },
      "outputs": [],
      "source": [
        "import torch\n",
        "import requests\n",
        "import pandas as pd\n",
        "from PIL import Image\n",
        "from io import BytesIO\n",
        "from datasets import load_dataset\n",
        "from transformers import CLIPProcessor, CLIPModel, CLIPTokenizer"
      ]
    },
    {
      "cell_type": "markdown",
      "metadata": {
        "id": "BXgwfItBwjLU"
      },
      "source": [
        "# Image Exploration"
      ]
    },
    {
      "cell_type": "markdown",
      "metadata": {
        "id": "suEU_Dac6idg"
      },
      "source": [
        "## Load Data"
      ]
    },
    {
      "cell_type": "code",
      "execution_count": null,
      "metadata": {
        "id": "u74wwOT50GWp"
      },
      "outputs": [],
      "source": [
        "# https://huggingface.co/datasets/conceptual_captions\n",
        "image_data = load_dataset(\n",
        "    \"conceptual_captions\", split=\"train\",\n",
        "    )"
      ]
    },
    {
      "cell_type": "code",
      "execution_count": null,
      "metadata": {
        "id": "boE-k4LXHEPr"
      },
      "outputs": [],
      "source": [
        "image_data"
      ]
    },
    {
      "cell_type": "markdown",
      "metadata": {
        "id": "j88b6SIPfeuL"
      },
      "source": [
        "We will select a sample of 300 images from this large number of images (3 318 333)"
      ]
    },
    {
      "cell_type": "code",
      "execution_count": null,
      "metadata": {
        "id": "9U-Ow8akwq5Q"
      },
      "outputs": [],
      "source": [
        "image_data_df = pd.DataFrame(image_data[:100])"
      ]
    },
    {
      "cell_type": "code",
      "execution_count": null,
      "metadata": {
        "id": "ObRatixl1D9Y"
      },
      "outputs": [],
      "source": [
        "image_data_df.shape"
      ]
    },
    {
      "cell_type": "code",
      "execution_count": null,
      "metadata": {
        "id": "lx1YgVyMfWGb"
      },
      "outputs": [],
      "source": [
        "image_data_df.head()"
      ]
    },
    {
      "cell_type": "code",
      "execution_count": null,
      "metadata": {
        "id": "MINLT5u6htUN"
      },
      "outputs": [],
      "source": [
        "#image_data_df.iloc[3][\"caption\"]"
      ]
    },
    {
      "cell_type": "code",
      "execution_count": null,
      "metadata": {
        "id": "z6504LgZ1s8g"
      },
      "outputs": [],
      "source": [
        "\"\"\"\n",
        "Not all the URLs are valid. This function returns True if the URL is valid. False otherwise.\n",
        "\"\"\"\n",
        "def check_valid_URLs(image_URL):\n",
        "\n",
        "    try:\n",
        "      response = requests.get(image_URL)\n",
        "      Image.open(BytesIO(response.content))\n",
        "      return True\n",
        "    except:\n",
        "      return False\n",
        "\n",
        "def get_image(image_URL):\n",
        "\n",
        "    response = requests.get(image_URL)\n",
        "    image = Image.open(BytesIO(response.content)).convert(\"RGB\")\n",
        "\n",
        "    return image\n",
        "\n",
        "def get_image_caption(image_ID):\n",
        "\n",
        "    return image_data[image_ID][\"caption\"]"
      ]
    },
    {
      "cell_type": "code",
      "execution_count": null,
      "metadata": {
        "id": "tRfVv9vbja4F"
      },
      "outputs": [],
      "source": [
        "# Transform dataframe\n",
        "image_data_df[\"is_valid\"] = image_data_df[\"image_url\"].apply(check_valid_URLs)"
      ]
    },
    {
      "cell_type": "code",
      "execution_count": null,
      "metadata": {
        "id": "XmDGCo5Zja10"
      },
      "outputs": [],
      "source": [
        "image_data_df = image_data_df[image_data_df[\"is_valid\"]==True]\n",
        "image_data_df.head()"
      ]
    },
    {
      "cell_type": "code",
      "execution_count": null,
      "metadata": {
        "id": "qYRUOK3aIxOJ"
      },
      "outputs": [],
      "source": [
        "image_data_df.shape"
      ]
    },
    {
      "cell_type": "code",
      "execution_count": null,
      "metadata": {
        "id": "KMyD5xO-jazu"
      },
      "outputs": [],
      "source": [
        "image_data_df[\"image\"] = image_data_df[\"image_url\"].apply(get_image)"
      ]
    },
    {
      "cell_type": "code",
      "execution_count": null,
      "metadata": {
        "id": "1pNB14lZolM7"
      },
      "outputs": [],
      "source": [
        "image_data_df.iloc[10][\"image\"]"
      ]
    },
    {
      "cell_type": "code",
      "execution_count": null,
      "metadata": {
        "id": "jd1uCxgKr-OT"
      },
      "outputs": [],
      "source": [
        "def get_model_info(model_ID, device):\n",
        "\n",
        "  # Save the model to device\n",
        "  model = CLIPModel.from_pretrained(model_ID).to(device)\n",
        "\n",
        "  # Get the processor\n",
        "  processor = CLIPProcessor.from_pretrained(model_ID)\n",
        "\n",
        "  # Get the tokenizer\n",
        "  tokenizer = CLIPTokenizer.from_pretrained(model_ID)\n",
        "\n",
        "  # Return model, processor & tokenizer\n",
        "  return model, processor, tokenizer"
      ]
    },
    {
      "cell_type": "code",
      "execution_count": null,
      "metadata": {
        "id": "kfNmI4hfq7W_"
      },
      "outputs": [],
      "source": [
        "# Set the device\n",
        "device = \"cuda\" if torch.cuda.is_available() else \"cpu\"\n",
        "\n",
        "model_ID = \"openai/clip-vit-base-patch32\"\n",
        "\n",
        "model, processor, tokenizer = get_model_info(model_ID, device)"
      ]
    },
    {
      "cell_type": "markdown",
      "metadata": {
        "id": "B-G8nfxXtOYQ"
      },
      "source": [
        "# Create Embeddings: Text and Image Embeddings"
      ]
    },
    {
      "cell_type": "markdown",
      "metadata": {
        "id": "3_YQWoMVtRqs"
      },
      "source": [
        "## Text Embeddings"
      ]
    },
    {
      "cell_type": "code",
      "execution_count": null,
      "metadata": {
        "id": "s-TXfU2Qssdv"
      },
      "outputs": [],
      "source": [
        "def get_single_text_embedding(text):\n",
        "\n",
        "  inputs = tokenizer(text, return_tensors = \"pt\").to(device)\n",
        "\n",
        "  text_embeddings = model.get_text_features(**inputs)\n",
        "\n",
        "  # convert the embeddings to numpy array\n",
        "  embedding_as_np = text_embeddings.cpu().detach().numpy()\n",
        "\n",
        "  return embedding_as_np"
      ]
    },
    {
      "cell_type": "code",
      "execution_count": null,
      "metadata": {
        "id": "0ePxjsPLdVAj"
      },
      "outputs": [],
      "source": [
        "def get_all_text_embeddings(df, text_col):\n",
        "\n",
        "   df[\"text_embeddings\"] = df[str(text_col)].apply(get_single_text_embedding)\n",
        "\n",
        "   return df"
      ]
    },
    {
      "cell_type": "code",
      "execution_count": null,
      "metadata": {
        "id": "M-uXFp7FYzTf"
      },
      "outputs": [],
      "source": [
        "image_data_df = get_all_text_embeddings(image_data_df, \"caption\")"
      ]
    },
    {
      "cell_type": "code",
      "execution_count": null,
      "metadata": {
        "id": "9z1z-DqJohgs"
      },
      "outputs": [],
      "source": [
        "image_data_df.head()"
      ]
    },
    {
      "cell_type": "markdown",
      "metadata": {
        "id": "PTqAQVlYwDJy"
      },
      "source": [
        "## Image Embeddings"
      ]
    },
    {
      "cell_type": "code",
      "execution_count": null,
      "metadata": {
        "id": "mLimMMjNu0X6"
      },
      "outputs": [],
      "source": [
        "def get_single_image_embedding(my_image):\n",
        "\n",
        "  image = processor(\n",
        "      text = None,\n",
        "      images = my_image,\n",
        "      return_tensors=\"pt\"\n",
        "  )[\"pixel_values\"].to(device)\n",
        "\n",
        "  embedding = model.get_image_features(image)\n",
        "\n",
        "  # convert the embeddings to numpy array\n",
        "  embedding_as_np = embedding.cpu().detach().numpy()\n",
        "\n",
        "  return embedding_as_np"
      ]
    },
    {
      "cell_type": "markdown",
      "metadata": {
        "id": "LeGT2zeg448K"
      },
      "source": [
        "### Get the embedding of all the images"
      ]
    },
    {
      "cell_type": "code",
      "execution_count": null,
      "metadata": {
        "id": "1ru4VKe-bOMs"
      },
      "outputs": [],
      "source": [
        "def get_all_images_embedding(df, img_column):\n",
        "\n",
        "  df[\"img_embeddings\"] = df[str(img_column)].apply(get_single_image_embedding)\n",
        "\n",
        "  return df"
      ]
    },
    {
      "cell_type": "code",
      "execution_count": null,
      "metadata": {
        "id": "c7VcNF0Cvity"
      },
      "outputs": [],
      "source": [
        "image_data_df = get_all_images_embedding(image_data_df, \"image\")"
      ]
    },
    {
      "cell_type": "code",
      "execution_count": null,
      "metadata": {
        "id": "1jUVZH0A9mWA"
      },
      "outputs": [],
      "source": [
        "image_data_df.head()"
      ]
    },
    {
      "cell_type": "code",
      "execution_count": null,
      "metadata": {
        "id": "YCQKsh6_cBdY"
      },
      "outputs": [],
      "source": [
        "import matplotlib.pyplot as plt\n",
        "\n",
        "def plot_images(images):\n",
        "\n",
        "  for image in images:\n",
        "    plt.imshow(image)\n",
        "    plt.show()\n",
        "\n",
        "def plot_images_by_side(top_images):\n",
        "\n",
        "  index_values = list(top_images.index.values)\n",
        "  list_images = [top_images.iloc[idx].image for idx in index_values]\n",
        "  list_captions = [top_images.iloc[idx].caption for idx in index_values]\n",
        "  similarity_score = [top_images.iloc[idx].cos_sim for idx in index_values]\n",
        "\n",
        "  n_row = n_col = 2\n",
        "\n",
        "  _, axs = plt.subplots(n_row, n_col, figsize=(12, 12))\n",
        "  axs = axs.flatten()\n",
        "  for img, ax, caption, sim_score in zip(list_images, axs, list_captions, similarity_score):\n",
        "      ax.imshow(img)\n",
        "      sim_score = 100*float(\"{:.2f}\".format(sim_score))\n",
        "      ax.title.set_text(f\"Caption: {caption}\\nSimilarity: {sim_score}%\")\n",
        "  plt.show()"
      ]
    },
    {
      "cell_type": "markdown",
      "metadata": {
        "id": "vxTZexabg2qx"
      },
      "source": [
        "# Perform Similarity Search: Cosine"
      ]
    },
    {
      "cell_type": "markdown",
      "metadata": {
        "id": "9E9OYCEsg5zz"
      },
      "source": [
        "## 1. Cosine Similarity Search"
      ]
    },
    {
      "cell_type": "code",
      "execution_count": null,
      "metadata": {
        "id": "IJCk645JhpcW"
      },
      "outputs": [],
      "source": [
        "from sklearn.metrics.pairwise import cosine_similarity"
      ]
    },
    {
      "cell_type": "code",
      "execution_count": null,
      "metadata": {
        "id": "XtGVIfyEhpaK"
      },
      "outputs": [],
      "source": [
        "def get_top_N_images(query, data, top_K=4, search_criterion=\"text\"):\n",
        "\n",
        "    \"\"\"\n",
        "    Retrieve top_K (5 is default value) articles similar to the query\n",
        "    \"\"\"\n",
        "    # Text to image Search\n",
        "    if(search_criterion.lower() == \"text\"):\n",
        "      query_vect = get_single_text_embedding(query)\n",
        "\n",
        "    # Image to image Search\n",
        "    else:\n",
        "      query_vect = get_single_image_embedding(query)\n",
        "\n",
        "    # Relevant columns\n",
        "    revevant_cols = [\"caption\", \"image\", \"cos_sim\"]\n",
        "\n",
        "    # Run similarity Search\n",
        "    data[\"cos_sim\"] = data[\"img_embeddings\"].apply(lambda x: cosine_similarity(query_vect, x))\n",
        "\n",
        "    data[\"cos_sim\"] = data[\"cos_sim\"].apply(lambda x: x[0][0])\n",
        "\n",
        "    \"\"\"\n",
        "    Sort Cosine Similarity Column in Descending Order\n",
        "    Here we start at 1 to remove similarity with itself because it is always 1\n",
        "    \"\"\"\n",
        "    most_similar_articles = data.sort_values(by='cos_sim', ascending=False)[1:top_K+1]\n",
        "\n",
        "    return most_similar_articles[revevant_cols].reset_index()"
      ]
    },
    {
      "cell_type": "code",
      "execution_count": null,
      "metadata": {
        "id": "bebjsnDkbUn1"
      },
      "outputs": [],
      "source": [
        "image_data_df.columns"
      ]
    },
    {
      "cell_type": "markdown",
      "metadata": {
        "id": "Z_UoyKQya8EU"
      },
      "source": [
        "### a. Text to image search"
      ]
    },
    {
      "cell_type": "code",
      "execution_count": null,
      "metadata": {
        "id": "n_1CGw25hpYX"
      },
      "outputs": [],
      "source": [
        "query_caption = image_data_df.iloc[10].caption\n",
        "\n",
        "top_images = get_top_N_images(query_caption, image_data_df)\n",
        "print(\"Query: {}\".format(query_caption))\n",
        "top_images"
      ]
    },
    {
      "cell_type": "code",
      "execution_count": null,
      "metadata": {
        "id": "QiUzXog4dOV6"
      },
      "outputs": [],
      "source": [
        "plot_images_by_side(top_images)"
      ]
    },
    {
      "cell_type": "markdown",
      "metadata": {
        "id": "Ct7c3y0B3gZC"
      },
      "source": [
        "### a. Image to image search"
      ]
    },
    {
      "cell_type": "code",
      "execution_count": null,
      "metadata": {
        "id": "EtQ5F5RohpWI"
      },
      "outputs": [],
      "source": [
        "query_image = image_data_df.iloc[55].image\n",
        "query_image"
      ]
    },
    {
      "cell_type": "code",
      "execution_count": null,
      "metadata": {
        "id": "lR4TZKCg3zUC"
      },
      "outputs": [],
      "source": [
        "top_images = get_top_N_images(query_image, image_data_df, search_criterion=\"image\")\n",
        "plot_images_by_side(top_images)"
      ]
    },
    {
      "cell_type": "markdown",
      "metadata": {
        "id": "Bq0SaeoAg9Jf"
      },
      "source": [
        "## Facebook AI Similarity Search"
      ]
    },
    {
      "cell_type": "markdown",
      "metadata": {
        "id": "WLg94sv2B6E8"
      },
      "source": [
        "# Approach n°2: Pinecone Client Library"
      ]
    },
    {
      "cell_type": "markdown",
      "metadata": {
        "id": "3oJ1S5gVF2oG"
      },
      "source": [
        "## Initializing the Index\n",
        "\n",
        "Now we need a place to store these embeddings and enable a efficient vector search through them all. To do that we use Pinecone, we can get a [free API key](https://app.pinecone.io/) and enter it below where we will initialize our connection to Pinecone and create a new index."
      ]
    },
    {
      "cell_type": "code",
      "execution_count": null,
      "metadata": {
        "id": "4y7OPpDlF2oG"
      },
      "outputs": [],
      "source": [
        "import os\n",
        "from pinecone import Pinecone\n",
        "\n",
        "# initialize connection to pinecone (get API key at app.pinecone.io)\n",
        "api_key = os.environ.get('PINECONE_API_KEY') or 'PINECONE_API_KEY'\n",
        "\n",
        "# configure client\n",
        "pc = Pinecone(api_key=api_key)"
      ]
    },
    {
      "cell_type": "markdown",
      "metadata": {
        "id": "Z1p14RHSF2oG"
      },
      "source": [
        "Now we setup our index specification, this allows us to define the cloud provider and region where we want to deploy our index. You can find a list of all [available providers and regions here](https://docs.pinecone.io/docs/projects)."
      ]
    },
    {
      "cell_type": "code",
      "execution_count": null,
      "metadata": {
        "id": "BD8T6LolF2oG"
      },
      "outputs": [],
      "source": [
        "from pinecone import ServerlessSpec\n",
        "\n",
        "cloud = os.environ.get('PINECONE_CLOUD') or 'aws'\n",
        "region = os.environ.get('PINECONE_REGION') or 'us-east-1'\n",
        "\n",
        "spec = ServerlessSpec(cloud=cloud, region=region)"
      ]
    },
    {
      "cell_type": "markdown",
      "metadata": {
        "id": "wDTzn8NyF2oH"
      },
      "source": [
        "Create the index:"
      ]
    },
    {
      "cell_type": "code",
      "execution_count": null,
      "metadata": {
        "id": "4WVSwbLEF2oH"
      },
      "outputs": [],
      "source": [
        "my_index_name = \"clip-image-search\""
      ]
    },
    {
      "cell_type": "code",
      "execution_count": null,
      "metadata": {
        "id": "A5FnL7eTF2oH"
      },
      "outputs": [],
      "source": [
        "import time\n",
        "\n",
        "vector_dim = image_data_df.img_embeddings[0].shape[1]\n",
        "\n",
        "# check if index already exists (it shouldn't if this is first time)\n",
        "if my_index_name not in pc.list_indexes().names():\n",
        "    # if does not exist, create index\n",
        "    pc.create_index(\n",
        "        my_index_name,\n",
        "        dimension=vector_dim,\n",
        "        metric='cosine',\n",
        "        spec=spec\n",
        "    )\n",
        "    # wait for index to be initialized\n",
        "    while not pc.describe_index(my_index_name).status['ready']:\n",
        "        time.sleep(1)\n",
        "\n",
        "# connect to index\n",
        "my_index = pc.Index(my_index_name)\n",
        "# view index stats\n",
        "my_index.describe_index_stats()"
      ]
    },
    {
      "cell_type": "markdown",
      "metadata": {
        "id": "rfpf05AqArRd"
      },
      "source": [
        "## Prepare Vector"
      ]
    },
    {
      "cell_type": "code",
      "execution_count": null,
      "metadata": {
        "id": "O2FTTpuLR2OS"
      },
      "outputs": [],
      "source": [
        "image_data_df[\"vector_id\"] = image_data_df.index\n",
        "image_data_df[\"vector_id\"] = image_data_df[\"vector_id\"].apply(str)\n",
        "\n",
        "# Get all the metadata\n",
        "final_metadata = []\n",
        "\n",
        "for index in range(len(image_data_df)):\n",
        "  final_metadata.append({\n",
        "      'ID':  index,\n",
        "      'caption': image_data_df.iloc[index].caption,\n",
        "      'image': image_data_df.iloc[index].image_url\n",
        "  })\n",
        "\n",
        "image_IDs = image_data_df.vector_id.tolist()\n",
        "image_embeddings = [arr.tolist() for arr in image_data_df.img_embeddings.tolist()]\n",
        "\n",
        "# Create the single list of dictionary format to insert\n",
        "data_to_upsert = list(zip(image_IDs, image_embeddings, final_metadata))\n",
        "\n",
        "# Upload the final data\n",
        "my_index.upsert(vectors = data_to_upsert)\n",
        "\n",
        "# Check index size for each namespace\n",
        "my_index.describe_index_stats()"
      ]
    },
    {
      "cell_type": "markdown",
      "metadata": {
        "id": "iRCNlAnsM8oD"
      },
      "source": [
        "# Start the query"
      ]
    },
    {
      "cell_type": "markdown",
      "metadata": {
        "id": "T6RDCD09cFGz"
      },
      "source": [
        "### Text to image"
      ]
    },
    {
      "cell_type": "code",
      "execution_count": null,
      "metadata": {
        "id": "6xjQgyjOalWw"
      },
      "outputs": [],
      "source": [
        "text_query = image_data_df.iloc[10].caption\n",
        "text_query"
      ]
    },
    {
      "cell_type": "code",
      "execution_count": null,
      "metadata": {
        "id": "ta0XISHzalOr"
      },
      "outputs": [],
      "source": [
        "# Get the caption embedding\n",
        "query_embedding = get_single_text_embedding(text_query).tolist()"
      ]
    },
    {
      "cell_type": "code",
      "execution_count": null,
      "metadata": {
        "id": "KOHF0kdjcvuJ"
      },
      "outputs": [],
      "source": [
        "# Run the query\n",
        "my_index.query(vector=query_embedding, top_k=4, include_metadata=True)"
      ]
    },
    {
      "cell_type": "markdown",
      "metadata": {
        "id": "JcTIctBUcanD"
      },
      "source": [
        "### Image to image"
      ]
    },
    {
      "cell_type": "code",
      "execution_count": null,
      "metadata": {
        "id": "hbsr4RQ6X81v"
      },
      "outputs": [],
      "source": [
        "image_query = image_data_df.iloc[43].image\n",
        "image_query"
      ]
    },
    {
      "cell_type": "code",
      "execution_count": null,
      "metadata": {
        "id": "gc46-JpjdUlj"
      },
      "outputs": [],
      "source": [
        "# Get the text embedding\n",
        "query_embedding = get_single_image_embedding(image_query).tolist()"
      ]
    },
    {
      "cell_type": "code",
      "execution_count": null,
      "metadata": {
        "id": "ATb9y9pIdULF"
      },
      "outputs": [],
      "source": [
        "# Run the query\n",
        "my_index.query(vector=query_embedding, top_k=4, include_metadata=True)"
      ]
    },
    {
      "cell_type": "markdown",
      "metadata": {
        "id": "HBJzh8Hs7zTC"
      },
      "source": [
        "## Delete your index\n",
        "\n",
        "Once finished with the index we can delete it to save resources."
      ]
    },
    {
      "cell_type": "code",
      "execution_count": null,
      "metadata": {
        "id": "7FME88jbX8zh"
      },
      "outputs": [],
      "source": [
        "pc.delete_index(my_index_name)"
      ]
    },
    {
      "cell_type": "markdown",
      "metadata": {
        "id": "mCb_cc-9F2oI"
      },
      "source": [
        "---"
      ]
    }
  ],
  "metadata": {
    "colab": {
      "provenance": [],
      "include_colab_link": true
    },
    "kernelspec": {
      "display_name": "Python 3",
      "language": "python",
      "name": "python3"
    },
    "language_info": {
      "name": "python",
      "version": "3.10.7 (main, Sep 14 2022, 22:38:23) [Clang 14.0.0 (clang-1400.0.29.102)]"
    },
    "vscode": {
      "interpreter": {
        "hash": "b0fa6594d8f4cbf19f97940f81e996739fb7646882a419484c72d19e05852a7e"
      }
    }
  },
  "nbformat": 4,
  "nbformat_minor": 0
}